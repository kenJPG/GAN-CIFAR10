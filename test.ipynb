{
 "cells": [
  {
   "cell_type": "code",
   "execution_count": 4,
   "metadata": {},
   "outputs": [
    {
     "name": "stdout",
     "output_type": "stream",
     "text": [
      "yay\n",
      "bam\n"
     ]
    }
   ],
   "source": [
    "class Group:\n",
    "\tclass Child:\n",
    "\t\tdef __init__(self):\n",
    "\t\t\tself.msg = 'yay'\n",
    "\n",
    "\t\tdef quack(self):\n",
    "\t\t\tprint(self.msg)\n",
    "\t\t\t\n",
    "class Group2:\n",
    "\tclass Child:\n",
    "\t\tdef __init__(self):\n",
    "\t\t\tself.msg = 'bam'\n",
    "\n",
    "\t\tdef quack(self):\n",
    "\t\t\tprint(self.msg)\n",
    "\n",
    "a = Group.Child()\n",
    "b = Group2.Child()\n",
    "\n",
    "a.quack()\n",
    "b.quack()"
   ]
  }
 ],
 "metadata": {
  "kernelspec": {
   "display_name": "pytorch",
   "language": "python",
   "name": "python3"
  },
  "language_info": {
   "codemirror_mode": {
    "name": "ipython",
    "version": 3
   },
   "file_extension": ".py",
   "mimetype": "text/x-python",
   "name": "python",
   "nbconvert_exporter": "python",
   "pygments_lexer": "ipython3",
   "version": "3.10.8 | packaged by conda-forge | (main, Nov 22 2022, 08:16:33) [MSC v.1929 64 bit (AMD64)]"
  },
  "orig_nbformat": 4,
  "vscode": {
   "interpreter": {
    "hash": "4d19efe0496419facc97fd7ea20d5d3a0b9c1bdc9473c8f87e1305d92cacb204"
   }
  }
 },
 "nbformat": 4,
 "nbformat_minor": 2
}
