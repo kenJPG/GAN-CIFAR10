{
 "cells": [
  {
   "cell_type": "code",
   "execution_count": null,
   "metadata": {},
   "outputs": [],
   "source": [
    "# ==================== #\n",
    "# Author: Kenneth Chen #\n",
    "# Student ID: 2100072  #\n",
    "# ==================== #\n",
    "\n",
    "# Notebook Configuration\n",
    "GPU_COUNT = 1\n",
    "WINDOWS = True"
   ]
  },
  {
   "cell_type": "code",
   "execution_count": null,
   "metadata": {},
   "outputs": [],
   "source": [
    "!pip install -q pandas\n",
    "!pip install -q seaborn\n",
    "!pip install -q matplotlib\n",
    "!pip install -q neptune-client"
   ]
  },
  {
   "attachments": {},
   "cell_type": "markdown",
   "metadata": {},
   "source": [
    "<img src=\"images/cifar10.PNG\" width=700>"
   ]
  },
  {
   "attachments": {},
   "cell_type": "markdown",
   "metadata": {},
   "source": [
    "# Generative Adversarial Networks - CIFAR10\n",
    "> Can we create a strong generative model for CIFAR10 using the GAN architecture?\n",
    "\n",
    "## Background Research 📖\n",
    "\n",
    "### Introduction 💡\n",
    "The ultimate goal of Deep Learning is to be able to create a function that can <strong>effectively model any form of data distribution</strong>. History has time and time again displayed the impressive success of discriminators, models that learn to divide the data distribution/map a high dimensional vector to one that is lower (Goodfellow et al., 2014). For instance, tasks such as Image Classification are one type of discriminative modelling, as the high dimensional images are mapped into low dimensional probabilities of labels.\n",
    "\n",
    "What about generative modelling? In generative modelling, the goal is instead given a data distribution to learn from, to produce or <strong>generate new examples</strong> that follow this distribution but still aim to be unique. Thus, a high performing generative model should be able to create examples that are both <strong>plausible</strong> (in that one can recognize what the generated example is supposed to be of) <strong>and indistinguishable</strong> from real data examples (Brownlee, 2019). Generative models can be Unsupervised or Semi-Supervised, depending on the exact task that one is trying to tackle. \n",
    "\n",
    "There are different approaches to network architectures when it comes to trying to achieve Generative Models:\n",
    "<ul>\n",
    "\t<li>Generative Adversarial Networks (GAN) </li>\n",
    "\t<li>Diffusion Models</li>\n",
    "\t<li>Variational Auto Encoders (VAE)</li>\n",
    "</ul>\n",
    "\n",
    "<strong>GANs ⚔️</strong> <br />\n",
    "GANs are the main focus of this notebook. Proposed by Ian Goodfellow in 2014, it became one of the more popular types of Generative Models used. For instance, the commonly known website <a href=\"thispersondoesnotexist.com\">thispersondoesnotexist.com</a> uses the StyleGAN2 architecture (Karras et al., 2020), to generate high fidelity images of humans. The idea for GANs is that <strong>there are two networks that work against each other in a game</strong>, where they try to one up each other. Thus, this leads to improvement in both networks. More details are discussed under \"What's inside a GAN? 🔍\".\n",
    "\n",
    "<strong>Diffusion Models ✨</strong><br /> \n",
    "These are the models that have been not only been successful, but widely popular as well. For instance, OpenAI Dall-E, Google Imagen, Stable Diffusion, Midjourney are models that fall under the category of Diffusion Models. (Muppalla and Hendryx, 2022). From a high level, it works like so:\n",
    "<ul>\n",
    "\t<li>Noise is added to original images</li>\n",
    "\t<li>Noise is procedurally added until image is all noise</li>\n",
    "\t<li>The model then learns to remove the noise</li>\n",
    "\t<li>Guidance can be added in the form of e.g. text-to-image, to provide direction of the generation process</li>\n",
    "</ul>\n",
    "\n",
    "<img src=\"images/diffusion1.jpg\" width=400/><br />\n",
    "*Noise is procedurally added to the image. Image Credit: (Muppalla and Hendryx, 2022)*\n",
    "\n",
    "<img src=\"images/diffusion2.jpg\" width=400/><br />\n",
    "*Model attempts to recreate the image. Image Credit: (Muppalla and Hendryx, 2022)*\n",
    "\n",
    "<strong>Variational Auto Encoders 🎲</strong><br />\n",
    "We first take a look at what Auto Encoders are. An Auto Encoder is trained for it to learn to copy the input to the output (Goodfellow, Bengio and Courville, 2016). This is done by having an <strong>encoder map the image</strong> to a compressed representation of the image (the inner nodes), to which the decoder <strong>uses this compressed representation</strong> to generate an image similar to the original. Note that the trick is to <strong>restrict the number of inner nodes</strong> inside the network, such that it is <strong>not able to generate a 1-to-1 copy</strong>. This way, it's forced to learn the most promiment of features to recognize, using the limited number of nodes.\n",
    "\n",
    "The idea with Variational Auto Encoders is that <strong>instead of the encoder just mapping the image to a compressed representation</strong> (aka latent vector), we instead <strong>learn the distribution that the latent vector can take on</strong>. Using this, we can then randomly sample from the learned latent distribution, for the decoder to give us a newly and controlled generated image.\n",
    "\n",
    "<img src=\"images/vae.PNG\" width=400/><br />\n",
    "*VAE Architecture. We note the learning of the latent distribution in the form of $\\mu$ (mean) and $\\sigma$ (standard deviation). Image Credit: (Rocca, 2019)*"
   ]
  },
  {
   "attachments": {},
   "cell_type": "markdown",
   "metadata": {},
   "source": [
    "\n",
    "### What's inside a GAN? 🔍\n",
    "In a GAN, there are in fact two networks, a <strong>generator</strong> and a <strong>discriminator</strong> that improve each other by competing in a game scenario (Goodfellow, Bengio and Courville, 2016). The aim is to use the well established field of discriminators to assist the generator. The goal of the generator is to <strong>create realistic images</strong> that appear to be from the distribution of the training images, where as the goal of the discriminator is to determine <strong>if a given image is from the data distribution</strong>. The process goes as follows:\n",
    "<ol>\n",
    "\t<li>Generator creates images</li>\n",
    "\t<li>Discriminator learns to distinguish real vs fake from a set of real images and these newly generated images</li>\n",
    "\t<li>Using the updated Discriminator, Generator learns to trick the Discriminator</li>\n",
    "</ol>\n",
    "\n",
    "Mathematically speaking, the process of GANs can be described as so. \n",
    "Suppose we have some a random distribution or a \"prior\", which we can sample from. We can denote this as $p_z(z)$, where $z$ represents a vector of a specific size. This vector acts as the input to our generative model $G$. The model is ultimately described as $G(z; \\theta_g)$ where $\\theta_g$ represents the parameters of the generative model.\n",
    "\n",
    "On the other hand, our discriminator model $D$, takes in an input $x$, an image, which can be fully described as $D(x; \\theta_d)$, where likewise, $\\theta_d$ represents the parameters of the discriminative model. Being the discriminator, $D(x)$ returns the probability that an input $x$ is from the.\n",
    "\n",
    "This \"game\" between the two models can be thought of as trying to optimize of minimax function of:\n",
    "\n",
    "$$\\underset{G}{\\text{min}}\\underset{D}{\\text{max}} V(D, G) = \\mathbb{E}_{x \\sim p_{\\text{data}}(x)} [\\text{log}D(x)] + \\mathbb{E}_{z \\sim p_{\\text{z}}(z)} [\\text{log}(1 - D(G(z)))]$$\n",
    "\n",
    "<em style=\"text: center\">(Goodfellow et al., 2014)</em>\n",
    "\n",
    "Essentially, the function $V$ takes in two inputs, our models $D$ and $G$, and returns an output that has two parts. The left hand part of the sum $\\mathbb{E}_{x \\thicksim p_{\\text{data}}(x)} [\\text{log}D(x)]$ represents \"the expected value that the discriminator model predicts real data is real\". The right hand part of the sum $\\mathbb{E}_{z \\thicksim p_{\\text{z}}(z)} [\\text{log}(1 - D(G(z)))]$ looks at given some random vector $z$, \"what is the expected value that the discriminator model predicts fake data is fake\", in that the value of the right hand part is maximum when discriminator model is successful at labeling the fake images of a generator as fake.\n",
    "\n",
    "$\\underset{G}{\\text{min}}\\underset{D}{\\text{max}}$ aims to do two things. Firstly, what is the generator model $G$ that *minimizes the value*, which means *the discriminator labels generator's images as real*. Secondly what is the disciminator model $D$ that will maximize this value, which means **discriminator model predicts real images as real and fake images as fake**. These two perfectly optimize each other, when the best approach the discriminator can take is to <strong>just guess randomly</strong> as the generator images are on the same realism as the real data."
   ]
  },
  {
   "attachments": {},
   "cell_type": "markdown",
   "metadata": {},
   "source": [
    "### Types of GANs 🍐\n",
    "There many different types of GANs, however I believe the most differing pair is the Vanilla GAN and the Conditional GAN. The Vanilla GAN is what was proposed by Ian Goodfellow in 2014, which consists of the basic architecture with multi-layer perceptrons (MLPs). Conditional GANs are different in the aspect that one can provide additional information to the model, which could be thought of as a form of guidance similar to diffusion models.\n",
    "\n",
    "<img src=\"images/vanilla.jpg\" width=400><br/>\n",
    "*Vanilla GAN architecture (Tewari, N.d.)*\n",
    "\n",
    "<img src=\"images/conditional.jpg\" width=400><br/>\n",
    "\n",
    "*Conditional GAN architecture (Tewari, N.d.)*\n",
    "\n",
    "We observe that there is an extra component of `y`, which represents the extra information presented both to the Generator and Discriminator. This extra information is usually in the form of class labels to allow one to possess control over the output, but it can be extended to different modal data, even something such as text (in which case it needs some sort of text processor).\n",
    "\n",
    "One may think of Conditional GAN as a more *\"supervised\" version* of Vanilla GANs, as some condition techniques (in the form of perhaps label information) are provided **to support the adversarial training**. Conditional GANs have in fact become **the go-to method of generating high-quality images** (Kang et al., 2021). This may be due to the fact that **when image sizes become larger** and there is **no sense of direction**, there can be a **significant** amount of overlapping generation that occurs.\n",
    "\n",
    "What's more, is that even among Conditional GANs, the category can be further broken down into different methods of **inputing this conditional information**. The common methods are:\n",
    "<ol>\n",
    "\t<li>Conditioning by concatenation</li>\n",
    "\t<li>Conditioning with projection discriminator</li>\n",
    "\t<li>Conditioning with auxiliary classifier</li>\n",
    "\t<li>Conditioning with batch normalization</li>\n",
    "</ol>\n",
    "\n",
    "In this notebook, we utilize and explore the above 4 techniques."
   ]
  },
  {
   "cell_type": "markdown",
   "metadata": {},
   "source": [
    "\n",
    "### Uses of GANs 🧤\n",
    "\n",
    "As a GAN is a generative model, there are a large number of applications of GANs (Brownlee, 2019). Personally, I find it interesting how the idea of GANs can be adjusted for any modal of data, as long as the architecture for the encoder and decoders are adjusted accordingly. Here are a few areas of GANs I believe are quite intriguing:\n",
    "<ul>\n",
    "\t<li>Time Series</li>\n",
    "\t<li>Image Generation</li>\n",
    "\t<li>Music Generation</li>\n",
    "\t<li>Audio Generation</li>\n",
    "\t<li>Style Transfer (e.g. winter photo to summer photo, jazz to classical music)</li>\n",
    "</ul>\n",
    "\n",
    "Among them, I think Audio Generation stands out to me the most. The idea of using GANs in music composition sounds like a difficult challenge, but also an impressive feat if one could pull it off."
   ]
  },
  {
   "attachments": {},
   "cell_type": "markdown",
   "metadata": {},
   "source": [
    "### The difficulty with GANs 🧩\n",
    "Despite having achieved great success at generating realistic and sharp looking images, they are still remarkably difficult to train (Arjovsky and Bottou, 2017). Different symptoms/signs may appear as a result of non-optimal training process or architecture. Below, we attempt to discuss what such that we are able to know what to pay attention to, when developing our GANs as well.\n",
    "\n",
    "#### Mode collapse\n",
    "One of the largest and continuing issues with the GAN training process is mode collapse. Mode collapse is said to occur if the generator **maps multiple different vectors** $z$ to the same output of $x$, where $x$ is a vector which the <strong>discriminator assigns high probability of being real</strong> to. In other words, the generator **exploits the discovery** that a particular output can fool the generator and thus ultimately produces, <strong>decreasing the diversity of one's outputs</strong>.\n",
    "\n",
    "#### Mode Dropping\n",
    "This is another case of decreasing the diversity of one's outputs, however not in the same way as Mode Collapse. In Mode Collapse, diversity is decreased within the classes. However, in Mode Dropping, diversity is decreased **among the classes**. Specifically, the generator may learn that for certain classes, it is difficult to generate an image, sufficiently realistic enough to trick the generator. Thus the generator may learn to simply just ignore these difficult classes, to be the most effective in the game against discriminator."
   ]
  },
  {
   "attachments": {},
   "cell_type": "markdown",
   "metadata": {},
   "source": [
    "#### Non-Lipschitz Continuity\n",
    "A real-valued function $f: \\mathbb{R} \\rightarrow \\mathbb{R}$ possesses the property of Lipschitz continuity if\n",
    "\n",
    "$$ |f(x_1) - f(x_2) | \\leq K|x_1 - x_2| $$\n",
    "\n",
    "where $K$ is some constant and $x$ represents the input. Intuitively, this means that when we change the value of $x$, we can expect to be <strong>relatively small</strong>, in that the change can be described as a result of linear growth rather than <strong>uncontrolled growth</strong>.\n",
    "\n",
    "**What does this mean in the context of neural networks?** Suppose we have some network that **does not** possess the property of being Lipschitz continuous (this is possible because neural networks are essentially a composition of functions). As there is no bound of $K$, it means the output of the function can grow uncontrollably and a small change in the input **can possibly lead to large changes in the output**. This is bad for GANs, as we lose our sense of control and also means that moving along one dimension may result in drastically different changes in the output.\n",
    "\n",
    "If we can enforce Lipschitz continuity in GANs, it means that a small change in the input, guarantees a relative small change in the output as well, which is what we want. One method of achieving this is to utilize a different loss function in GANs such as Wasserstein Distance. We explore approaches to tackling this issue further in the *\"Developing GANs\"* section."
   ]
  },
  {
   "attachments": {},
   "cell_type": "markdown",
   "metadata": {},
   "source": [
    "### **GAN Metrics**: what does it mean to be good?\n",
    "\n",
    "The most straight forward method of telling whether the output of a GAN is good, is to well, use our human eyes. On a smaller-sized experiment or if one is assessing a few images, this may be a valid approach. However, when the amount of data scale up to a very large quantity (which naturally is the case with Deep Learning), the act of visually inspecting every output is **simply infeasible**. Besides, using our eye as a metric means our feedback is **qualitative**. This means if it comes down to comparing the performances of two incredibly well-performing models, it's also difficult for one to tell which one is better. Thus, we need to define a set of quantitative metrics that we can use to substitute the use of our human eyes.\n",
    "\n",
    "There is no one metric that is the *\"best\"* (Borji, 2018). Each metric has its own advantages and disadvantages, but ideally an efficient evaluation metric should:\n",
    "<ol>\n",
    "\t<li>high quality</li>\n",
    "\t<li>diverse</li>\n",
    "\t<li>disentangled latent space</li>\n",
    "</ol>\n",
    "<em>(Borji, 2018)</em>\n",
    "\n",
    "What is **Disentangled Latent Space**?\n",
    "Latent space is straight forward, it's the typically smaller representation that in the context of GANs, acts as the input to the generator network. Disentangled latent space means that going along one dimension of the latent space representation, the changes reflected in the output should have only an appropriate level of overlap with outputs achieved by going along a different dimension. Thus, there are a few cases:\n",
    "\n",
    "![VAE Disentanglement](images/disentangled.JPG)<br />\n",
    "*(Mathieu et al., 2019)*"
   ]
  },
  {
   "attachments": {},
   "cell_type": "markdown",
   "metadata": {},
   "source": [
    "Above is the context in Variational Auto Encoders, however as the problem statement of generator images to mimic the real distribution is the same, thus the evaluation metrics being the same as well, I use the image to explain how the concept of disentangled latent space in the context of GANs.\n",
    "\n",
    "We see there are a total of 3 possible cases:\n",
    "<ul>\n",
    "\t<li>Insufficient overlap</li>\n",
    "\t<li>Appropriate Overlap</li>\n",
    "\t<li>Too Much Overlap</li>\n",
    "</ul>\n",
    "\n",
    "In the case of insufficient overlap, we see that moving along the latent distribution $p(z)$ provides the property of independence, in that there are no two latent spaces that affect two features of the output. However, the problem is that the generated image distribution is not, does not take up much of our ideal output distribution $p_{\\theta}(x)$. In the case of too much overlap, as indicated by the large overlapping regions, it tells us that moving along one dimension of the latent space leads to a change in many different images among the distribution (which in this 2d representation can be interpretted as changing too many of the same features). Thus, the ideal or appropriate level of overlap here, as seen in the center image, is where there is a good level of independence, in that moving along one dimension of the latent space vector results to changes associated only with the latent space vector, and where the covered area is also large, taking up most of the space of our distribution $p_{\\theta}(x)$.\n",
    "\n",
    "How about the two others -- quality and diversity? \n",
    "\n",
    "##### **Measuring Quality**  \n",
    "What we mean by quality here is not the resolution of the image (doesn't make sense for the generator to output high-res images when the training data is low resolution). Here, quality means how well one is able to recognize an image, as the class it is intended to be. The two most popular metrics are **Inception Score** and **Frechet Inception Distance**. The term **inception** comes from the fact that these two metrics **actually use** a pretrained Inception classifier to aid in producing the metric values.\n",
    "<ul>\n",
    "\t<li>Inception Score <strong>(IS)</strong></li>\n",
    "\t<li>Frechet Inception Distance <strong>(FID)</strong></li>\n",
    "</ul>\n",
    "\n",
    "##### **Measuring Diversity**  \n",
    "If we simply **focused on quality-measuring metrics**, our models may still be susceptible to something like Mode Collapse or Mode Dropping. We try to aim for a quantitative metric such as:\n",
    "<ul>\n",
    "\t<li>Learned Perceptual Image Patch Similarity <strong>(LPIPS)</strong></li>\n",
    "\t<li>Number of statistically-different bins <strong>(NDB)</strong></li>\n",
    "\t<li><strong>I-Variance</strong></li>\n",
    "</ul>\n",
    "\n",
    "Further details of these metrics are discussed in later sections, when we evaluate the models."
   ]
  },
  {
   "attachments": {},
   "cell_type": "markdown",
   "metadata": {},
   "source": [
    "# The CIFAR10 Dataset\n",
    "<img src=\"images/cifar_random.png\" width=300 />\n",
    "\n",
    "As per our assignment, we are instructed to utilize the CIFAR10 dataset to **generate 1000 small colour images**. \n",
    "\n",
    "The CIFAR-10 dataset consists of **60000** `32x32` colour images in a total of 10 classes, with 6000 images per class (Krizhevsky, 2009)."
   ]
  },
  {
   "attachments": {},
   "cell_type": "markdown",
   "metadata": {},
   "source": [
    "## Developing GAN 💻\n",
    "> Let's get to building our Conditional GAN.\n",
    "\n",
    "Why Conditional GANs? As mentioned during the above background research section, Conditional GANs are. On top of this, Conditional GANs allow the user to <strong>control</strong> the output, where as Va.\n",
    "\n",
    "Besides, if one appreciates the idea of not knowing what a Vanilla GAN may output, a simple random module can be attached as the conditional information to somewhat *hack* the Conditional GAN into being a normal GAN.\n",
    "\n",
    "### Objectives 🖊️\n",
    "We identify the tasks and objectives we want to meet, which will be used as a guide throughout the development of our Conditional GAN.\n",
    "<ol>\n",
    "\t<li>Explore the CIFAR10 dataset</li>\n",
    "\t<li>Implement and evaluate to find the best performing model</li>\n",
    "\t<li>Analyse the final model</li>\n",
    "</ol>"
   ]
  },
  {
   "attachments": {},
   "cell_type": "markdown",
   "metadata": {},
   "source": [
    "### Importing Libraries\n",
    "The necessary libraries are imported below."
   ]
  },
  {
   "cell_type": "code",
   "execution_count": 152,
   "metadata": {},
   "outputs": [],
   "source": [
    "import torch\n",
    "from torch import nn\n",
    "import torchvision\n",
    "from torchvision import transforms\n",
    "import torch.nn.functional as F\n",
    "\n",
    "import copy\n",
    "import numpy as np\n",
    "import matplotlib.pyplot as plt\n",
    "import seaborn as sns\n",
    "\n",
    "import math\n",
    "import pandas as pd\n",
    "import numpy as np"
   ]
  },
  {
   "attachments": {},
   "cell_type": "markdown",
   "metadata": {},
   "source": [
    "### Utility Functions 🔨\n",
    "We define some utility functions below that will ease and help us with our analysis."
   ]
  },
  {
   "cell_type": "code",
   "execution_count": 148,
   "metadata": {},
   "outputs": [],
   "source": [
    "def loc_data(data, loc):\n",
    "\tdatacopy = copy.deepcopy(data)\n",
    "\tarr = np.array(datacopy.loc[loc].drop('label'))\n",
    "\tlabel = datacopy.loc[loc]['label']\n",
    "\troot = int(len(arr) ** 0.5)\n",
    "\tarr.resize((root, root))\n",
    "\treturn label, arr\n",
    "\n",
    "def imshow(arr: list, label: list = None, figsize=None, shape = (32, 32, 3), is_int = None):\n",
    "\tif is_int == None:\n",
    "\t\tif type(arr[0]) == torch.Tensor:\n",
    "\t\t\tis_int = (arr[0].detach().cpu().numpy() > 1).sum() > 0\n",
    "\t\telse:\n",
    "\t\t\tis_int = (arr[0] > 1).sum() > 0\n",
    "\tif label == None:\n",
    "\t\tlabel = [''] * len(arr)\n",
    "\n",
    "\theight = int(len(arr) ** 0.5)\n",
    "\twidth = math.ceil(len(arr) / height)\n",
    "\n",
    "\tX_means = np.array([0.4919, 0.4827, 0.4472])\n",
    "\tX_stds = np.array([0.2470, 0.2434, 0.2616])\n",
    "\tunnormalize = transforms.Normalize((-X_means / X_stds).tolist(), (1.0 / X_stds).tolist())\n",
    "\n",
    "\tif figsize == None:\n",
    "\t\tfig = plt.figure()\n",
    "\telse:\n",
    "\t\tfig = plt.figure(figsize=figsize)\n",
    "\tfor i in range(height):\n",
    "\t\tfor j in range(width):\n",
    "\t\t\tax = fig.add_subplot(height, width, i * height + j + 1)\n",
    "\t\t\tax.grid(False)\n",
    "\t\t\tax.set_xticks([])\n",
    "\t\t\tax.set_yticks([])\n",
    "\t\t\tshow = arr[i * height + j]\n",
    "\t\t\tif type(arr[i * height + j]) != torch.Tensor:\n",
    "\t\t\t\tshow = torch.Tensor(show)\n",
    "\t\t\t\n",
    "\t\t\tif show.min() < 0:\n",
    "\t\t\t\tshow = unnormalize(show)\n",
    "\t\t\t\tshow = torch.clamp(show, min = 0, max = 1)\n",
    "\t\t\t\t# ax.imshow((arr[i * height + j].squeeze(0).cpu().permute(1, 2, 0) / 255).type(torch.uint8 if is_int else float))\n",
    "\t\t\t# if (show.shape[0] == 1):\n",
    "\t\t\t# \tax.imshow((show.squeeze(0).cpu()).type(torch.uint8 if is_int else torch.float), cmap='gray')\n",
    "\t\t\t# else:\n",
    "\t\t\tif len(show.squeeze(0).cpu().shape) == 2:\n",
    "\t\t\t\tax.imshow((show.squeeze(0).detach().cpu()).type(torch.uint8 if is_int else torch.float), cmap='gray')\n",
    "\t\t\telse:\n",
    "\n",
    "\t\t\t\ttry:\n",
    "\t\t\t\t\tax.imshow((show.squeeze(0).detach().cpu().permute(1,2,0)).type(torch.uint8 if is_int else torch.float))\n",
    "\t\t\t\texcept:\n",
    "\t\t\t\t\tax.imshow((show.squeeze(0).detach().cpu()).type(torch.uint8 if is_int else torch.float))\n",
    "\t\t\tax.set_title(label[i * height + j])\n",
    "\n",
    "def df_to_tensor(df, shape = (32, 32)):\n",
    "\treturn torch.tensor(df.values.reshape((-1, *shape)), dtype=torch.float32)\n",
    "\n",
    "def preprocess(df):\n",
    "\treturn df.copy() / 255\n",
    "\n",
    "# Credits to StudioGAN for function reference\n",
    "def set_deterministic_op_trainable(m):\n",
    "\tif isinstance(m, torch.nn.modules.conv.Conv2d):\n",
    "\t\tm.train()\n",
    "\tif isinstance(m, torch.nn.modules.conv.ConvTranspose2d):\n",
    "\t\tm.train()\n",
    "\tif isinstance(m, torch.nn.modules.linear.Linear):\n",
    "\t\tm.train()\n",
    "\tif isinstance(m, torch.nn.modules.Embedding):\n",
    "\t\tm.train()\n",
    "\n",
    "def untrack_bn_statistics(m):\n",
    "\tif isinstance(m, torch.nn.modules.batchnorm._BatchNorm):\n",
    "\t\tm.track_running_stats = False\n",
    "\n",
    "def track_bn_statistics(m):\n",
    "\tif isinstance(m, torch.nn.modules.batchnorm._BatchNorm):\n",
    "\t\tm.track_running_stats = True\n",
    "\n",
    "class dummy_context_mgr():\n",
    "\tdef __enter__(self):\n",
    "\t\treturn None\n",
    "\n",
    "\tdef __exit__(self, exc_type, exc_value, traceback):\n",
    "\t\treturn False\n",
    "\n",
    "\n",
    "def sample_y(y_sampler, batch_size, num_classes, device):\n",
    "\tif y_sampler == \"totally_random\":\n",
    "\t\ty_fake = torch.randint(low=0, high=num_classes, size=(batch_size, ), dtype=torch.long, device=device)\n",
    "\n",
    "\telif y_sampler == \"acending_some\":\n",
    "\t\tassert batch_size % 8 == 0, \"The size of batches should be a multiple of 8.\"\n",
    "\t\tnum_classes_plot = batch_size // 8\n",
    "\t\tindices = np.random.permutation(num_classes)[:num_classes_plot]\n",
    "\n",
    "\telif y_sampler == \"acending_all\":\n",
    "\t\tbatch_size = num_classes * 8\n",
    "\t\tindices = [c for c in range(num_classes)]\n",
    "\n",
    "\telif isinstance(y_sampler, int):\n",
    "\t\ty_fake = torch.tensor([y_sampler] * batch_size, dtype=torch.long).to(device)\n",
    "\telse:\n",
    "\t\ty_fake = None\n",
    "\n",
    "\tif y_sampler in [\"acending_some\", \"acending_all\"]:\n",
    "\t\ty_fake = []\n",
    "\t\tfor idx in indices:\n",
    "\t\t\ty_fake += [idx] * 8\n",
    "\t\ty_fake = torch.tensor(y_fake, dtype=torch.long).to(device)\n",
    "\treturn y_fake\n",
    "\n",
    "from scipy.stats import truncnorm\n",
    "\n",
    "def truncated_normal(size, threshold=1.):\n",
    "\tvalues = truncnorm.rvs(-threshold, threshold, size=size)\n",
    "\treturn values\n",
    "\n",
    "def sample_normal(batch_size, z_dim, truncation_factor, device):\n",
    "\tif truncation_factor == -1.0:\n",
    "\t\tlatents = torch.randn(batch_size, z_dim, device=device)\n",
    "\telif truncation_factor > 0:\n",
    "\t\tlatents = torch.FloatTensor(truncated_normal([batch_size, z_dim], truncation_factor)).to(device)\n",
    "\telse:\n",
    "\t\traise ValueError(\"truncated_factor must be positive.\")\n",
    "\treturn latents\n",
    "\n",
    "def sample_zy(z_prior, batch_size, z_dim, num_classes, truncation_factor, y_sampler, radius, device):\n",
    "\tfake_labels = sample_y(y_sampler=y_sampler, batch_size=batch_size, num_classes=num_classes, device=device)\n",
    "\tbatch_size = fake_labels.shape[0]\n",
    "\n",
    "\tif z_prior == \"gaussian\":\n",
    "\t\tzs = sample_normal(batch_size=batch_size, z_dim=z_dim, truncation_factor=truncation_factor, device=device)\n",
    "\telif z_prior == \"uniform\":\n",
    "\t\tzs = torch.FloatTensor(batch_size, z_dim).uniform_(-1.0, 1.0).to(device)\n",
    "\telse:\n",
    "\t\traise NotImplementedError\n",
    "\n",
    "\tif isinstance(radius, float) and radius > 0.0:\n",
    "\t\tif z_prior == \"gaussian\":\n",
    "\t\t\tzs_eps = zs + radius * sample_normal(batch_size, z_dim, -1.0, device)\n",
    "\t\telif z_prior == \"uniform\":\n",
    "\t\t\tzs_eps = zs + radius * torch.FloatTensor(batch_size, z_dim).uniform_(-1.0, 1.0).to(device)\n",
    "\telse:\n",
    "\t\tzs_eps = None\n",
    "\treturn zs, fake_labels, \n",
    "\n",
    "\n",
    "def make_GAN_trainable(Gen, Dis):\n",
    "\tGen.train()\n",
    "\tGen.apply(track_bn_statistics)\n",
    "\tDis.train()\n",
    "\tDis.apply(track_bn_statistics)\n",
    "\n",
    "def make_GAN_trainable(Gen, Dis):\n",
    "\tGen.eval()\n",
    "\tGen.apply(set_deterministic_op_trainable)\n",
    "\tDis.eval()\n",
    "\tDis.apply(set_deterministic_op_trainable)\n",
    "\n",
    "def peel_model(model):\n",
    "\tif isinstance(model, nn.DataParallel) or isinstance(model, nn.DistributedDataParallel):\n",
    "\t\tmodel = model.module\n",
    "\treturn model\n",
    "\n",
    "def toggle_grad(model, grad, num_freeze_layers=-1, is_stylegan=False):\n",
    "\tmodel = peel_model(model)\n",
    "\tif is_stylegan:\n",
    "\t\tfor name, param in model.named_parameters():\n",
    "\t\t\tparam.requires_grad = grad\n",
    "\telse:\n",
    "\t\ttry:\n",
    "\t\t\tnum_blocks = len(model.in_dims)\n",
    "\t\t\tassert num_freeze_layers < num_blocks,\\\n",
    "\t\t\t\t\"cannot freeze the {nfl}th block > total {nb} blocks.\".format(nfl=num_freeze_layers,\n",
    "\t\t\t\t\t\t\t\t\t\t\t\t\t\t\t\t\t\t\tnb=num_blocks)\n",
    "\t\texcept:\n",
    "\t\t\tpass\n",
    "\n",
    "\t\tif num_freeze_layers == -1:\n",
    "\t\t\tfor name, param in model.named_parameters():\n",
    "\t\t\t\tparam.requires_grad = grad\n",
    "\t\telse:\n",
    "\t\t\tassert grad, \"cannot freeze the model when grad is False\"\n",
    "\t\t\tfor name, param in model.named_parameters():\n",
    "\t\t\t\tparam.requires_grad = True\n",
    "\t\t\t\tfor layer in range(num_freeze_layers):\n",
    "\t\t\t\t\tblock_name = \"blocks.{layer}\".format(layer=layer)\n",
    "\t\t\t\t\tif block_name in name:\n",
    "\t\t\t\t\t\tparam.requires_grad = False\n",
    "\n",
    "from torch import autograd\n",
    "\n",
    "def cal_deriv(inputs, outputs, device):\n",
    "\tgrads = autograd.grad(outputs=outputs,\n",
    "\t\t\t\t\t\t  inputs=inputs,\n",
    "\t\t\t\t\t\t  grad_outputs=torch.ones(outputs.size()).to(device),\n",
    "\t\t\t\t\t\t  create_graph=True,\n",
    "\t\t\t\t\t\t  retain_graph=True,\n",
    "\t\t\t\t\t\t  only_inputs=True)[0]\n",
    "\treturn grads\n",
    "\n",
    "def cal_r1_reg(adv_output, images, device):\n",
    "\tbatch_size = images.size(0)\n",
    "\tgrad_dout = cal_deriv(inputs=images, outputs=adv_output.sum(), device=device)\n",
    "\tgrad_dout2 = grad_dout.pow(2)\n",
    "\tassert (grad_dout2.size() == images.size())\n",
    "\tr1_reg = 0.5 * grad_dout2.contiguous().view(batch_size, -1).sum(1).mean(0) + images[:,0,0,0].mean()*0\n",
    "\treturn r1_reg\n",
    "\n",
    "def cal_maxgrad_penalty(real_images, real_labels, fake_images, discriminator, device):\n",
    "\tbatch_size, c, h, w = real_images.shape\n",
    "\talpha = torch.rand(batch_size, 1)\n",
    "\talpha = alpha.expand(batch_size, real_images.nelement() // batch_size).contiguous().view(batch_size, c, h, w)\n",
    "\talpha = alpha.to(device)\n",
    "\n",
    "\treal_images = real_images.to(device)\n",
    "\tinterpolates = alpha * real_images + ((1 - alpha) * fake_images)\n",
    "\tinterpolates = interpolates.to(device)\n",
    "\tinterpolates = autograd.Variable(interpolates, requires_grad=True)\n",
    "\tfake_dict = discriminator(interpolates, real_labels, eval=False)\n",
    "\tgrads = cal_deriv(inputs=interpolates, outputs=fake_dict[\"adv_output\"], device=device)\n",
    "\tgrads = grads.view(grads.size(0), -1)\n",
    "\n",
    "\tmaxgrad_penalty = torch.max(grads.norm(2, dim=1)**2) + interpolates[:,0,0,0].mean()*0\n",
    "\treturn maxgrad_penalty\n",
    "\n",
    "def generate_images(z_prior, truncation_factor, batch_size, z_dim, num_classes, y_sampler, radius, generator, discriminator,\n",
    "\t\t\t\t\tis_train, LOSS, RUN, MODEL, device, is_stylegan, generator_mapping, generator_synthesis, style_mixing_p,\n",
    "\t\t\t\t\tstylegan_update_emas, cal_trsp_cost):\n",
    "\tif is_train:\n",
    "\t\ttruncation_factor = -1.0\n",
    "\t\tlo_steps = LOSS.lo_steps4train\n",
    "\t\tapply_langevin = False\n",
    "\telse:\n",
    "\t\tlo_steps = LOSS.lo_steps4eval\n",
    "\t\tif truncation_factor != -1:\n",
    "\t\t\tif is_stylegan:\n",
    "\t\t\t\tassert 0 <= truncation_factor <= 1, \"Stylegan truncation_factor must lie btw 0(strong truncation) ~ 1(no truncation)\"\n",
    "\t\t\telse:\n",
    "\t\t\t\tassert 0 <= truncation_factor, \"truncation_factor must lie btw 0(strong truncation) ~ inf(no truncation)\"\n",
    "\n",
    "\tzs, fake_labels, zs_eps = sample_zy(z_prior=z_prior,\n",
    "\t\t\t\t\t\t\t\t\t\tbatch_size=batch_size,\n",
    "\t\t\t\t\t\t\t\t\t\tz_dim=z_dim,\n",
    "\t\t\t\t\t\t\t\t\t\tnum_classes=num_classes,\n",
    "\t\t\t\t\t\t\t\t\t\ttruncation_factor=-1 if is_stylegan else truncation_factor,\n",
    "\t\t\t\t\t\t\t\t\t\ty_sampler=y_sampler,\n",
    "\t\t\t\t\t\t\t\t\t\tradius=radius,\n",
    "\t\t\t\t\t\t\t\t\t\tdevice=device)\n",
    "\tbatch_size = fake_labels.shape[0]\n",
    "\tinfo_discrete_c, info_conti_c = None, None\n",
    "\tif MODEL.info_type in [\"discrete\", \"both\"]:\n",
    "\t\tinfo_discrete_c = torch.randint(MODEL.info_dim_discrete_c,(batch_size, MODEL.info_num_discrete_c), device=device)\n",
    "\t\tzs = torch.cat((zs, F.one_hot(info_discrete_c, MODEL.info_dim_discrete_c).view(batch_size, -1)), dim=1)\n",
    "\tif MODEL.info_type in [\"continuous\", \"both\"]:\n",
    "\t\tinfo_conti_c = torch.rand(batch_size, MODEL.info_num_conti_c, device=device) * 2 - 1\n",
    "\t\tzs = torch.cat((zs, info_conti_c), dim=1)\n",
    "\n",
    "\ttrsp_cost = None\n",
    "\tfake_images = generator(zs, fake_labels, eval=not is_train)\n",
    "\tws = None\n",
    "\n",
    "\tif zs_eps is not None:\n",
    "\t\tfake_images_eps = generator(zs_eps, fake_labels, eval=not is_train)\n",
    "\telse:\n",
    "\t\tfake_images_eps = None\n",
    "\treturn fake_images, fake_labels, fake_images_eps, trsp_cost, ws, info_discrete_c, info_conti_c\n",
    "\n",
    "def load_generator_discriminator(DATA, OPTIMIZATION, MODEL, STYLEGAN, MODULES, RUN, device, logger):\n",
    "    if device == 0:\n",
    "        logger.info(\"Build a Generative Adversarial Network.\")\n",
    "    module = __import__(\"models.{backbone}\".format(backbone=MODEL.backbone), fromlist=[\"something\"])\n",
    "    if device == 0:\n",
    "        logger.info(\"Modules are located on './src/models.{backbone}'.\".format(backbone=MODEL.backbone))\n",
    "\n",
    "    if MODEL.backbone in [\"stylegan2\", \"stylegan3\"]:\n",
    "        channel_base, channel_max = 32768 if MODEL.backbone == \"stylegan3\" or DATA.img_size >= 512 or \\\n",
    "                                    DATA.name in [\"CIFAR10\", \"CIFAR100\"] else 16384, 512\n",
    "        gen_c_dim = DATA.num_classes if MODEL.g_cond_mtd == \"cAdaIN\" else 0\n",
    "        dis_c_dim = DATA.num_classes if MODEL.d_cond_mtd in STYLEGAN.cond_type else 0\n",
    "        if RUN.mixed_precision:\n",
    "            num_fp16_res = 4\n",
    "            conv_clamp = 256\n",
    "        else:\n",
    "            num_fp16_res = 0\n",
    "            conv_clamp = None\n",
    "        if MODEL.backbone == \"stylegan2\":\n",
    "            Gen = module.Generator(z_dim=MODEL.z_dim,\n",
    "                                c_dim=gen_c_dim,\n",
    "                                w_dim=MODEL.w_dim,\n",
    "                                img_resolution=DATA.img_size,\n",
    "                                img_channels=DATA.img_channels,\n",
    "                                MODEL=MODEL,\n",
    "                                mapping_kwargs={\"num_layers\": STYLEGAN.mapping_network},\n",
    "                                synthesis_kwargs={\"channel_base\": channel_base, \"channel_max\": channel_max, \\\n",
    "                                \"num_fp16_res\": num_fp16_res, \"conv_clamp\": conv_clamp}).to(device)\n",
    "        else:\n",
    "            magnitude_ema_beta = 0.5 ** (OPTIMIZATION.batch_size * OPTIMIZATION.acml_steps / (20 * 1e3))\n",
    "            g_channel_base, g_channel_max, conv_kernel, use_radial_filters = channel_base, channel_max, 3, False\n",
    "            if STYLEGAN.stylegan3_cfg == \"stylegan3-r\":\n",
    "                g_channel_base, g_channel_max, conv_kernel, use_radial_filters = channel_base * 2, channel_max * 2, 1, True\n",
    "            Gen = module.Generator(z_dim=MODEL.z_dim,\n",
    "                                c_dim=gen_c_dim,\n",
    "                                w_dim=MODEL.w_dim,\n",
    "                                img_resolution=DATA.img_size,\n",
    "                                img_channels=DATA.img_channels,\n",
    "                                MODEL=MODEL,\n",
    "                                mapping_kwargs={\"num_layers\": STYLEGAN.mapping_network},\n",
    "                                synthesis_kwargs={\"channel_base\": g_channel_base, \"channel_max\": g_channel_max, \\\n",
    "                                \"num_fp16_res\": num_fp16_res, \"conv_clamp\": conv_clamp, \"conv_kernel\": conv_kernel, \\\n",
    "                                \"use_radial_filters\": use_radial_filters, \"magnitude_ema_beta\": magnitude_ema_beta}).to(device)\n",
    "\n",
    "        Gen_mapping, Gen_synthesis = Gen.mapping, Gen.synthesis\n",
    "\n",
    "        module = __import__(\"models.stylegan2\", fromlist=[\"something\"]) # always use StyleGAN2 discriminator\n",
    "        Dis = module.Discriminator(c_dim=dis_c_dim,\n",
    "                                   img_resolution=DATA.img_size,\n",
    "                                   img_channels=DATA.img_channels,\n",
    "                                   architecture=STYLEGAN.d_architecture,\n",
    "                                   channel_base=channel_base,\n",
    "                                   channel_max=channel_max,\n",
    "                                   num_fp16_res=num_fp16_res,\n",
    "                                   conv_clamp=conv_clamp,\n",
    "                                   cmap_dim=None,\n",
    "                                   d_cond_mtd=MODEL.d_cond_mtd,\n",
    "                                   aux_cls_type=MODEL.aux_cls_type,\n",
    "                                   d_embed_dim=MODEL.d_embed_dim,\n",
    "                                   num_classes=DATA.num_classes,\n",
    "                                   normalize_d_embed=MODEL.normalize_d_embed,\n",
    "                                   block_kwargs={},\n",
    "                                   mapping_kwargs={},\n",
    "                                   epilogue_kwargs={\n",
    "                                       \"mbstd_group_size\": STYLEGAN.d_epilogue_mbstd_group_size\n",
    "                                   },\n",
    "                                   MODEL=MODEL).to(device)\n",
    "\n",
    "        if MODEL.apply_g_ema:\n",
    "            if device == 0:\n",
    "                logger.info(\"Prepare exponential moving average generator with decay rate of {decay}.\"\\\n",
    "                            .format(decay=MODEL.g_ema_decay))\n",
    "            Gen_ema = copy.deepcopy(Gen)\n",
    "            Gen_ema_mapping, Gen_ema_synthesis = Gen_ema.mapping, Gen_ema.synthesis\n",
    "\n",
    "            ema = EmaStylegan2(source=Gen,\n",
    "                               target=Gen_ema,\n",
    "                               ema_kimg=STYLEGAN.g_ema_kimg,\n",
    "                               ema_rampup=STYLEGAN.g_ema_rampup,\n",
    "                               effective_batch_size=OPTIMIZATION.batch_size * OPTIMIZATION.acml_steps)\n",
    "        else:\n",
    "            Gen_ema, Gen_ema_mapping, Gen_ema_synthesis, ema = None, None, None, None\n",
    "\n",
    "    else:\n",
    "        Gen = module.Generator(z_dim=MODEL.z_dim,\n",
    "                               g_shared_dim=MODEL.g_shared_dim,\n",
    "                               img_size=DATA.img_size,\n",
    "                               g_conv_dim=MODEL.g_conv_dim,\n",
    "                               apply_attn=MODEL.apply_attn,\n",
    "                               attn_g_loc=MODEL.attn_g_loc,\n",
    "                               g_cond_mtd=MODEL.g_cond_mtd,\n",
    "                               num_classes=DATA.num_classes,\n",
    "                               g_init=MODEL.g_init,\n",
    "                               g_depth=MODEL.g_depth,\n",
    "                               mixed_precision=RUN.mixed_precision,\n",
    "                               MODULES=MODULES,\n",
    "                               MODEL=MODEL).to(device)\n",
    "\n",
    "        Gen_mapping, Gen_synthesis = None, None\n",
    "\n",
    "        Dis = module.Discriminator(img_size=DATA.img_size,\n",
    "                                   d_conv_dim=MODEL.d_conv_dim,\n",
    "                                   apply_d_sn=MODEL.apply_d_sn,\n",
    "                                   apply_attn=MODEL.apply_attn,\n",
    "                                   attn_d_loc=MODEL.attn_d_loc,\n",
    "                                   d_cond_mtd=MODEL.d_cond_mtd,\n",
    "                                   aux_cls_type=MODEL.aux_cls_type,\n",
    "                                   d_embed_dim=MODEL.d_embed_dim,\n",
    "                                   num_classes=DATA.num_classes,\n",
    "                                   normalize_d_embed=MODEL.normalize_d_embed,\n",
    "                                   d_init=MODEL.d_init,\n",
    "                                   d_depth=MODEL.d_depth,\n",
    "                                   mixed_precision=RUN.mixed_precision,\n",
    "                                   MODULES=MODULES,\n",
    "                                   MODEL=MODEL).to(device)\n",
    "\n",
    "\t\tGen_ema, Gen_ema_mapping, Gen_ema_synthesis, ema = None, None, None, None\n",
    "\n",
    "    if device == 0:\n",
    "        logger.info(misc.count_parameters(Gen))\n",
    "    if device == 0:\n",
    "        logger.info(Gen)\n",
    "\n",
    "    if device == 0:\n",
    "        logger.info(misc.count_parameters(Dis))\n",
    "    if device == 0:\n",
    "        logger.info(Dis)\n",
    "    return Gen, Gen_mapping, Gen_synthesis, Dis"
   ]
  },
  {
   "cell_type": "markdown",
   "metadata": {},
   "source": [
    "### Exploratory Data Analysis 🗺️\n",
    "To start off, let's try to get a better feel for the dataset.\n",
    "We download the data from the Kaggle link: <a href=\"https://www.kaggle.com/datasets/pankrzysiu/cifar10-python\">link</a>"
   ]
  },
  {
   "cell_type": "markdown",
   "metadata": {},
   "source": [
    "<table>\n",
    "\t<tr>\n",
    "\t\t<th>\n",
    "\t\t\tColumn Name\n",
    "\t\t</th>\n",
    "\t\t<th>\n",
    "\t\t\tDescription\n",
    "\t\t</th>\n",
    "\t</tr>\n",
    "\t<tr>\n",
    "\t\t<td>\n",
    "\t\t\tpixel 1<br />\n",
    "\t\t\t...<br />\n",
    "\t\t\tpixel 3072\n",
    "\t\t</td>\n",
    "\t\t<td>\n",
    "\t\t\tPixels representing the image, each pixel ranging from 0 to 255. Each image has a dimension of 32x32x3\n",
    "\t\t</td>\n",
    "\t</tr>\n",
    "</table>"
   ]
  },
  {
   "cell_type": "code",
   "execution_count": 123,
   "metadata": {},
   "outputs": [
    {
     "name": "stdout",
     "output_type": "stream",
     "text": [
      "X shape: (60000, 3072)\n",
      "y shape: (60000, 1)\n"
     ]
    }
   ],
   "source": [
    "def unpickle(file):\n",
    "    import pickle\n",
    "    with open(file, 'rb') as fo:\n",
    "        dict = pickle.load(fo, encoding='bytes')\n",
    "    return dict\n",
    "\n",
    "files = [f'data_batch_{i}' for i in range(1, 6)] + ['test_batch']\n",
    "\n",
    "X = pd.DataFrame()\n",
    "y = pd.DataFrame()\n",
    "for file in files:\n",
    "\tX = pd.concat([X, pd.DataFrame(unpickle(f'data/{file}')[b'data'])])\n",
    "\ty = pd.concat([y, pd.DataFrame(unpickle(f'data/{file}')[b'labels'])])\n",
    "\n",
    "print(\"X shape:\",X.shape)\n",
    "print(\"y shape:\",y.shape)"
   ]
  },
  {
   "cell_type": "markdown",
   "metadata": {},
   "source": [
    "We see that there are a total of `60000` rows in both the `X DataFrame` and `y DataFrame`\n",
    "\n",
    "Next, we open the metadata and see all the different labels we have. We see that <strong>there are a total of 10 classes</strong>."
   ]
  },
  {
   "cell_type": "code",
   "execution_count": 124,
   "metadata": {},
   "outputs": [
    {
     "name": "stdout",
     "output_type": "stream",
     "text": [
      "Number of classes: 10\n",
      "['airplane' 'automobile' 'bird' 'cat' 'deer' 'dog' 'frog' 'horse' 'ship'\n",
      " 'truck']\n"
     ]
    }
   ],
   "source": [
    "classes = np.array(\n",
    "\tlist(map(\n",
    "\t\tlambda x: x.decode('utf-8'),\n",
    "\t\tunpickle('data/batches.meta')[b'label_names']\n",
    "\t))\n",
    ")\n",
    "print(\"Number of classes:\", len(classes))\n",
    "print(classes)"
   ]
  },
  {
   "attachments": {},
   "cell_type": "markdown",
   "metadata": {},
   "source": [
    "#### Preprocessing\n",
    "Before we move into EDA, we transform the dataframe to tensors, using the following transformations:\n",
    "<ul>\n",
    "\t<li>Change from 3072 pixels to <code>3x32x32</code> images</li>\n",
    "\t<li>Normalize the values</li>\n",
    "</ul>"
   ]
  },
  {
   "cell_type": "code",
   "execution_count": 125,
   "metadata": {},
   "outputs": [],
   "source": [
    "# Here we reshape the 3072 pixels accordingly into 3 channels of 32x32 images\n",
    "X_tensor = torch.Tensor(np.transpose(X.values.reshape((-1, 3, 32, 32)), axes=(0, 1, 2, 3)))"
   ]
  },
  {
   "cell_type": "markdown",
   "metadata": {},
   "source": [
    "Next, we want to normalize the values. To do this, we firstly want to calculate <strong>the mean and standard deviations</strong> in the image. We note that this is done within each channel."
   ]
  },
  {
   "cell_type": "code",
   "execution_count": 126,
   "metadata": {},
   "outputs": [
    {
     "data": {
      "text/plain": [
       "torch.Size([60000, 3, 32, 32])"
      ]
     },
     "execution_count": 126,
     "metadata": {},
     "output_type": "execute_result"
    }
   ],
   "source": [
    "X_tensor.shape"
   ]
  },
  {
   "cell_type": "code",
   "execution_count": 127,
   "metadata": {},
   "outputs": [
    {
     "name": "stdout",
     "output_type": "stream",
     "text": [
      "Means:  tensor([0.4919, 0.4827, 0.4472])\n",
      "Standard Deviations: tensor([0.2470, 0.2434, 0.2616])\n"
     ]
    }
   ],
   "source": [
    "X_means = X_tensor.mean(axis=(0, 2, 3)) / 255\n",
    "X_stds = X_tensor.std(axis=(0, 2, 3)) / 255\n",
    "print(\"Means: \", X_means)\n",
    "print(\"Standard Deviations:\", X_stds)"
   ]
  },
  {
   "cell_type": "markdown",
   "metadata": {},
   "source": [
    "Once we have the mean and standard deviations calculated, we then move onto dividing the pixel values by 255, to make the range between `0 - 1`. Only **after** we do this, do we apply the normalize transformation."
   ]
  },
  {
   "cell_type": "code",
   "execution_count": 128,
   "metadata": {},
   "outputs": [],
   "source": [
    "normalize = transforms.Normalize(X_means, X_stds)\n",
    "X_tensor = normalize(X_tensor / 255)"
   ]
  },
  {
   "cell_type": "markdown",
   "metadata": {},
   "source": [
    "#### Signs of Class Imbalance\n",
    "We try to discover if there are any signs of class imbalance. If so, this may indicate that our data processing pipeline is incorrect."
   ]
  },
  {
   "cell_type": "code",
   "execution_count": 164,
   "metadata": {},
   "outputs": [
    {
     "data": {
      "text/plain": [
       "airplane      6000\n",
       "automobile    6000\n",
       "bird          6000\n",
       "cat           6000\n",
       "deer          6000\n",
       "dog           6000\n",
       "frog          6000\n",
       "horse         6000\n",
       "ship          6000\n",
       "truck         6000\n",
       "dtype: int64"
      ]
     },
     "execution_count": 164,
     "metadata": {},
     "output_type": "execute_result"
    }
   ],
   "source": [
    "pd.DataFrame(classes[y]).value_counts()"
   ]
  },
  {
   "attachments": {},
   "cell_type": "markdown",
   "metadata": {},
   "source": [
    "We observe:\n",
    "<ul>\n",
    "\t<li>For the `10` classes in the dataset, we see that each of the classes has a count of `6000`.</li>\n",
    "\t<li>Thus, we see there is no sign of class imbalance.</li>\n",
    "</ul>"
   ]
  },
  {
   "cell_type": "markdown",
   "metadata": {},
   "source": [
    "#### Null values?\n",
    "Next, we perform a simple `.isnull()` check to see if there are any null values in any of our data."
   ]
  },
  {
   "cell_type": "code",
   "execution_count": 172,
   "metadata": {},
   "outputs": [
    {
     "name": "stdout",
     "output_type": "stream",
     "text": [
      "Null counts among ALL the data: 0\n"
     ]
    }
   ],
   "source": [
    "null_counts = 0\n",
    "for iter_data in [X, y]:\n",
    "\tnull_counts += iter_data.isnull().sum().sum()\n",
    "\n",
    "print(\"Null counts among ALL the data:\", null_counts)"
   ]
  },
  {
   "cell_type": "markdown",
   "metadata": {},
   "source": [
    "The data we have downloaded and used present no null values. Thus, we can proceed with further data exploration.\n",
    "\n",
    "#### What does the average image look like?\n",
    "First, we take a look at a few images from our dataset."
   ]
  },
  {
   "cell_type": "code",
   "execution_count": 173,
   "metadata": {},
   "outputs": [
    {
     "data": {
      "image/png": "[encoded data removed]",
      "text/plain": [
       "<Figure size 640x480 with 12 Axes>"
      ]
     },
     "metadata": {},
     "output_type": "display_data"
    }
   ],
   "source": [
    "imshow(X_tensor[0:10], label = classes[y[0:10]].flatten().tolist(), is_int = False)"
   ]
  },
  {
   "cell_type": "markdown",
   "metadata": {},
   "source": [
    "We observe:\n",
    "<ul>\n",
    "\t<li>The objects in question such as <code>frog</code> and <code>deer</code>, do have some sort of background</li>\n",
    "\t<li>\n",
    "\t\tVisually, although the images are <strong>quite blurry</strong> due to the image size being <code>32x32</code>, it is still easy to tell the diffference between the classes.\n",
    "\t</li>\n",
    "</ul>\n",
    "\n",
    "What about the <strong>average of all images</strong>?"
   ]
  },
  {
   "cell_type": "code",
   "execution_count": 174,
   "metadata": {},
   "outputs": [
    {
     "data": {
      "image/png": "[encoded data removed]",
      "text/plain": [
       "<Figure size 640x480 with 1 Axes>"
      ]
     },
     "metadata": {},
     "output_type": "display_data"
    }
   ],
   "source": [
    "imshow([\n",
    "\tX.mean().apply(lambda x: x).values.reshape(3, 32, 32)\n",
    "], ['Average of all'])"
   ]
  },
  {
   "cell_type": "markdown",
   "metadata": {},
   "source": [
    "We observe that there is no significance in the average of all images.\n",
    "\n",
    "<strong>Average image among the classes</strong><br />\n",
    "We then split by the classes and find the average among each of the classes."
   ]
  },
  {
   "cell_type": "code",
   "execution_count": 176,
   "metadata": {},
   "outputs": [
    {
     "data": {
      "image/png": "[encoded data removed]",
      "text/plain": [
       "<Figure size 1700x1000 with 12 Axes>"
      ]
     },
     "metadata": {},
     "output_type": "display_data"
    }
   ],
   "source": [
    "images = []\n",
    "titles = []\n",
    "\n",
    "for i in range(10):\n",
    "\tidx = np.where((y.values == i))[0].flatten()\n",
    "\timages.append(X.iloc[idx].values.reshape(-1, 3, 32, 32).mean(axis=0))\n",
    "\ttitles.append(classes[i])\n",
    "\n",
    "imshow(images, titles, figsize = (17, 10))"
   ]
  },
  {
   "cell_type": "markdown",
   "metadata": {},
   "source": [
    "We observe:\n",
    "<ul>\n",
    "\t<li>\n",
    "\t\tWe manage to <em>slightly</em> make out the shape of the <code>horse</code>\n",
    "\t</li>\n",
    "\t<li>\n",
    "\t\tIt appears that the average <code>horse</code> seems to have a more dominant precence when it faces the left, which is quite an interesting note.\n",
    "\t</li>\n",
    "\t<li>\n",
    "\t\tFor most of the classes, we manage to make out some sort of contour in the center, however it still is pixelated and blurry.\n",
    "\t</li>\n",
    "</ul>"
   ]
  },
  {
   "attachments": {},
   "cell_type": "markdown",
   "metadata": {},
   "source": [
    "### Application and Evaluation of Models\n",
    "In this section, we attempt to make and apply our GAN models to tackle the CIFAR10 dataset. Additionally, for each model we try, we will also have a set of evaluation metrics and will analyze the outputs to gain a better understand of our progress.\n",
    "\n",
    "The modeling process will go as such:\n",
    "<ol>\n",
    "\t<li>Train the generator and discriminator</li>\n",
    "\t<li>Assess the progress</li>\n",
    "\t<li>Evaluate on a series of metrics</li>\n",
    "\t<li>Discover potential improvements and repeat</li>\n",
    "</ol>"
   ]
  },
  {
   "attachments": {},
   "cell_type": "markdown",
   "metadata": {},
   "source": [
    "#### What are our <strong>evaluation metrics</strong>?\n",
    "As our primary measure for **quality**, we will utilize both **Inception Score** and **Frechet Inception Distance**.\n",
    "\n",
    "**I**\n",
    "\n",
    "Frechet Inception Distance\n",
    "Inception Score (Can't detect ModeCollapse)\n",
    "Wasserstein Critic\n",
    "Mode Collapse"
   ]
  },
  {
   "attachments": {},
   "cell_type": "markdown",
   "metadata": {},
   "source": [
    "#### Defining **Network Components**"
   ]
  },
  {
   "cell_type": "code",
   "execution_count": null,
   "metadata": {},
   "outputs": [],
   "source": []
  },
  {
   "attachments": {},
   "cell_type": "markdown",
   "metadata": {},
   "source": [
    "#### Training Environment\n",
    "We develop a training environment that will assist us in both training the GAN and also evaluating the performance and progress."
   ]
  },
  {
   "cell_type": "code",
   "execution_count": 1,
   "metadata": {},
   "outputs": [],
   "source": [
    "class Trainer:\n",
    "\tdef __init__(self):\n",
    "\t\tself.dis = None\n",
    "\t\tself.gen = None\n",
    "\t\tself.real_label = 1\n",
    "\t\tself.fake_label = 0\n",
    "\t\tself.G_losses = []\n",
    "\t\tself.D_losses = []\n",
    "\n",
    "\t\tself.real_image_basket = None\n",
    "\t\tself.real_label_basket = None\n",
    "\n",
    "\t\tself.d_updates_per_step = 1\n",
    "\t\tself.d_optimizer = None\n",
    "\t\tself.device = torch.device('CUDA')\n",
    "\t\tpass\n",
    "\n",
    "\tdef load_data(self, dataloader):\n",
    "\t\tpass\n",
    "\n",
    "\tdef sample_data_basket():\n",
    "\t\tpass\n",
    "\n",
    "\tdef train_discriminator(self):\n",
    "\t\t# d_updates_per_step - the number of discriminator updates per step\n",
    "\t\tbatch_counter = 0\n",
    "\n",
    "\t\treal_image_basket, real_label_basket = self.sample_data_basket()\n",
    "\t\tfor step_index in range(self.d_updates_per_step):\n",
    "\t\t\tself.D_optimizer.zero_grad()\n",
    "\n",
    "\t\t\twith torch.cuda.amp.autocast() as mpc:\n",
    "\t\t\t\treal_images = self.real_image_basket[batch_counter].to(self.device)\n",
    "\t\t\t\treal_labels = self.real_label_basket[batch_counter].to(self.device)\n",
    "\n",
    "\t\t\t\tfake_images, fake_labels, fake_images_eps, trsp_cost, ws, _, _ = self.generate_images(\n",
    "\n",
    "\t\t\t\t)\n",
    "\n",
    "\t\t\t\tif self.LOSS.apply_r1_reg and not self.is_stylegan:\n",
    "\t\t\t\t\treal_images.requires_grad_(True)\n",
    "\n",
    "\t\t\t\treal_images_ = self.AUG.series_augment(real_images)\n",
    "\t\t\t\tfake_images_ = self.AUG.series_augment(fake_images)\n",
    "\n",
    "\t\t\t\treal_dict = self.Dis(real_images_, real_labels)\n",
    "\t\t\t\tfake_dict = self.Dis(fake_images_, fake_labels, adc_fake = self.adc_fake)\n",
    "\n",
    "\t\t\t\tif self.AUG.apply_ada or self.AUG.apply_apa:\n",
    "\t\t\t\t\tself.dis_sign_real += torch.tensor((real_dict[\"adv_output\"].sign().sum().item(),\n",
    "\t\t\t\t\t\t\t\t\t\t\t\t\t\tself.OPTIMIZATION.batch_size),\n",
    "\t\t\t\t\t\t\t\t\t\t\t\t\tdevice=self.local_rank)\n",
    "\t\t\t\t\tself.dis_sign_fake += torch.tensor((fake_dict[\"adv_output\"].sign().sum().item(),\n",
    "\t\t\t\t\t\t\t\t\t\t\t\t\t\tself.OPTIMIZATION.batch_size),\n",
    "\t\t\t\t\t\t\t\t\t\t\t\t\tdevice=self.local_rank)\n",
    "\t\t\t\t\tself.dis_logit_real += torch.tensor((real_dict[\"adv_output\"].sum().item(),\n",
    "\t\t\t\t\t\t\t\t\t\t\t\t\t\tself.OPTIMIZATION.batch_size),\n",
    "\t\t\t\t\t\t\t\t\t\t\t\t\t\tdevice=self.local_rank)\n",
    "\t\t\t\t\tself.dis_logit_fake += torch.tensor((fake_dict[\"adv_output\"].sum().item(),\n",
    "\t\t\t\t\t\t\t\t\t\t\t\t\t\tself.OPTIMIZATION.batch_size),\n",
    "\t\t\t\t\t\t\t\t\t\t\t\t\t\tdevice=self.local_rank)\n",
    "\n",
    "\t\t\t\t# Multi-hinge loss\n",
    "\t\t\t\tif self.LOSS.adv_loss == \"MH\":\n",
    "\t\t\t\t\tdis_acml_loss = self.LOSS.d_loss(DDP=self.DDP, **real_dict)\n",
    "\t\t\t\t\tdis_acml_loss += self.LOSS.d_loss(fake_dict[\"adv_output\"], self.lossy, DDP=self.DDP)\n",
    "\t\t\t\telse:\n",
    "\t\t\t\t\tdis_acml_loss = self.LOSS.d_loss(real_dict[\"adv_output\"], fake_dict[\"adv_output\"], DDP=self.DDP)\n",
    "\n",
    "\t\t\t\t# Class conditional loss\n",
    "\t\t\t\tif self.MODEL.d_cond_mtd in self.MISC.classifier_based_GAN:\n",
    "\t\t\t\t\treal_cond_loss = self.cond_loss(**real_dict)\n",
    "\t\t\t\t\tdis_acml_loss += self.LOSS.cond_lambda * real_cond_loss\n",
    "\t\t\t\t\tif self.MODEL.aux_cls_type == \"TAC\":\n",
    "\t\t\t\t\t\ttac_dis_loss = self.cond_loss_mi(**fake_dict)\n",
    "\t\t\t\t\t\tdis_acml_loss += self.LOSS.tac_dis_lambda * tac_dis_loss\n",
    "\t\t\t\t\telif self.MODEL.aux_cls_type == \"ADC\":\n",
    "\t\t\t\t\t\tfake_cond_loss = self.cond_loss(**fake_dict)\n",
    "\t\t\t\t\t\tdis_acml_loss += self.LOSS.cond_lambda * fake_cond_loss\n",
    "\t\t\t\t\telse:\n",
    "\t\t\t\t\t\tpass\n",
    "\t\t\t\telse:\n",
    "\t\t\t\t\treal_cond_loss = \"N/A\"\n",
    "\n",
    "\t\t\t\t# Gradient Penalty\n",
    "\t\t\t\tif self.LOSS.apply_maxgp:\n",
    "\t\t\t\t\tmaxgp_loss = cal_maxgrad_penalty(real_images=real_images,\n",
    "\t\t\t\t\t\t\t\t\t\t\t\t\t\t\treal_labels=real_labels,\n",
    "\t\t\t\t\t\t\t\t\t\t\t\t\t\t\tfake_images=fake_images,\n",
    "\t\t\t\t\t\t\t\t\t\t\t\t\t\t\tdiscriminator=self.Dis,\n",
    "\t\t\t\t\t\t\t\t\t\t\t\t\t\t\tdevice=self.local_rank)\n",
    "\t\t\t\t\tdis_acml_loss += self.LOSS.maxgp_lambda * maxgp_loss\n",
    "\n",
    "\t\t\t\tif self.LOSS.apply_r1_reg and not self.is_stylegan:\n",
    "\t\t\t\t\tself.r1_penalty = cal_r1_reg(adv_output=real_dict[\"adv_output\"], images=real_images, device=self.local_rank)\n",
    "\t\t\t\t\tdis_acml_loss += self.LOSS.r1_lambda*self.r1_penalty\n",
    "\n",
    "\t\t\t\t# adjust gradients for applying gradient accumluation trick\n",
    "\t\t\t\tdis_acml_loss = dis_acml_loss / self.OPTIMIZATION.acml_steps\n",
    "\t\t\t\tbatch_counter += 1\n",
    "\n",
    "\t\t\t\t# accumulate gradients of the discriminator\n",
    "\t\t\t\tif self.RUN.mixed_precision and not self.is_stylegan:\n",
    "\t\t\t\t\tself.scaler.scale(dis_acml_loss).backward()\n",
    "\t\t\t\telse:\n",
    "\t\t\t\t\tdis_acml_loss.backward()\n",
    "\n",
    "\t\t\t# update the discriminator using the pre-defined optimizer\n",
    "\t\t\tif self.RUN.mixed_precision and not self.is_stylegan:\n",
    "\t\t\t\tself.scaler.step(self.D_optimizer)\n",
    "\t\t\t\tself.scaler.update()\n",
    "\t\t\telse:\n",
    "\t\t\t\tself.D_optimizer.step()\n",
    "\n",
    "\t\t\t# weight clipping for discriminator 1-lipschitz constraint\n",
    "\t\t\tif self.LOSS.apply_wc:\n",
    "\t\t\t\tfor p in self.Dis.parameters():\n",
    "\t\t\t\t\tp.data.clamp_(-self.LOSS.wc_bound, self.LOSS.wc_bound)\n",
    "\n",
    "\t\t# empty cache to discard used memory\n",
    "\t\tif self.RUN.empty_cache:\n",
    "\t\t\ttorch.cuda.empty_cache()\n",
    "\t\treturn real_cond_loss, dis_acml_loss\n",
    "\n",
    "\tdef train_generator(self, current_step):\n",
    "\t\tmake_GAN_trainable(self.Gen, self.Dis)\n",
    "\t\ttoggle_grad(model=self.Dis, grad=False, num_freeze_layers=-1, is_stylegan=self.is_stylegan)\n",
    "\t\ttoggle_grad(model=self.Gen, grad=True, num_freeze_layers=-1, is_stylegan=self.is_stylegan)\n",
    "\t\tif self.MODEL.info_type in [\"discrete\", \"both\"]:\n",
    "\t\t\ttoggle_grad(getattr(peel_model(self.Dis), self.MISC.info_params[0]), grad=True, num_freeze_layers=-1, is_stylegan=False)\n",
    "\t\tif self.MODEL.info_type in [\"continuous\", \"both\"]:\n",
    "\t\t\ttoggle_grad(getattr(peel_model(self.Dis), self.MISC.info_params[1]), grad=True, num_freeze_layers=-1, is_stylegan=False)\n",
    "\t\t\ttoggle_grad(getattr(peel_model(self.Dis), self.MISC.info_params[2]), grad=True, num_freeze_layers=-1, is_stylegan=False)\n",
    "\n",
    "\t\tself.Gen.apply(track_bn_statistics)\n",
    "\t\tfor step_index in range(self.g_updates_per_step):\n",
    "\t\t\tself.G_optimizer.zero_grad()\n",
    "\t\t\twith torch.cuda.amp.autocast() as mpc:\n",
    "\t\t\t\tfake_images, fake_labels, fake_images_eps , trsp_cost, ws, info_discrete_c, info_conti_c = self.generate_images()\n",
    "\n",
    "\t\t\t\t# Diff augment\n",
    "\t\t\t\tfake_images_ = self.AUG.series_augment(fake_images)\n",
    "\n",
    "\t\t\t\tfake_dict = self.Dis(fake_images_, fake_labels)\n",
    "\n",
    "\t\t\t\tif self.AUG.apply_ada:\n",
    "\t\t\t\t\tself.dis_sign_fake += torch.tensor((fake_dict[\"adv_output\"].sign().sum().item(),\n",
    "\t\t\t\t\t\t\t\t\t\t\t\t\t\tself.OPTIMIZATION.batch_size),\n",
    "\t\t\t\t\t\t\t\t\t\t\t\t\tdevice=self.local_rank)\n",
    "\t\t\t\t\tself.dis_logit_fake += torch.tensor((fake_dict[\"adv_output\"].sum().item(),\n",
    "\t\t\t\t\t\t\t\t\t\t\t\t\t\tself.OPTIMIZATION.batch_size),\n",
    "\t\t\t\t\t\t\t\t\t\t\t\t\t\tdevice=self.local_rank)\n",
    "\n",
    "\t\t\t\t# Multi-hinge loss\n",
    "\t\t\t\tif self.LOSS.adv_loss == \"MH\":\n",
    "\t\t\t\t\tgen_acml_loss = self.LOSS.mh_lambda * self.LOSS.g_loss(DDP=self.DDP, **fake_dict, )\n",
    "\t\t\t\telse:\n",
    "\t\t\t\t\tgen_acml_loss = self.LOSS.g_loss(fake_dict[\"adv_output\"], DDP=self.DDP)\n",
    "\n",
    "\t\t\t\t# calculate class conditioning loss defined by \"MODEL.d_cond_mtd\"\n",
    "\t\t\t\tif self.MODEL.d_cond_mtd in self.MISC.classifier_based_GAN:\n",
    "\t\t\t\t\tfake_cond_loss = self.cond_loss(**fake_dict)\n",
    "\t\t\t\t\tgen_acml_loss += self.LOSS.cond_lambda * fake_cond_loss\n",
    "\t\t\t\t\tif self.MODEL.aux_cls_type == \"TAC\":\n",
    "\t\t\t\t\t\ttac_gen_loss = -self.cond_loss_mi(**fake_dict)\n",
    "\t\t\t\t\t\tgen_acml_loss += self.LOSS.tac_gen_lambda * tac_gen_loss\n",
    "\t\t\t\t\telif self.MODEL.aux_cls_type == \"ADC\":\n",
    "\t\t\t\t\t\tadc_fake_dict = self.Dis(fake_images_, fake_labels, adc_fake=self.adc_fake)\n",
    "\t\t\t\t\t\tadc_fake_cond_loss = -self.cond_loss(**adc_fake_dict)\n",
    "\t\t\t\t\t\tgen_acml_loss += self.LOSS.cond_lambda * adc_fake_cond_loss\n",
    "\t\t\t\t\tpass\n",
    "\n",
    "\t\t\t# accumulate gradients of the generator\n",
    "\t\t\tif self.RUN.mixed_precision and not self.is_stylegan:\n",
    "\t\t\t\tself.scaler.scale(gen_acml_loss).backward()\n",
    "\t\t\telse:\n",
    "\t\t\t\tgen_acml_loss.backward()\n",
    "\n",
    "\t\t# update the generator using the pre-defined optimizer\n",
    "\t\tif self.RUN.mixed_precision and not self.is_stylegan:\n",
    "\t\t\tself.scaler.step(self.G_optimizer)\n",
    "\t\t\tself.scaler.update()\n",
    "\t\telse:\n",
    "\t\t\tself.G_optimizer.step()\n",
    "\t\t\n",
    "\t\tif self.RUN.empty_cache:\n",
    "\t\t\ttorch.cuda.empty_cache()\n",
    "\n",
    "\t\treturn gen_acml_loss\n",
    "\n",
    "\tdef load(self, discriminator, generator, d_optimizer, g_optimizer, loss, aug):\n",
    "\t\tself.Dis = discriminator\n",
    "\t\tself.Gen = generator\n",
    "\t\tself.D_optimizer = d_optimizer\n",
    "\t\tself.G_optimizer = g_optimizer\n",
    "\n",
    "\tdef evaluate(self):\n",
    "\t\tpass"
   ]
  },
  {
   "attachments": {},
   "cell_type": "markdown",
   "metadata": {},
   "source": [
    "\n",
    "#### Model **Baseline**: <code>DCGAN</code>\n",
    "Let us begin with a simple model, `DCGAN`, which <strong>utilizes the Deep Convolutional</strong> layers in both the Generator and Discriminator networks, as opposed to the original vanilla GAN that **uses dense layers**. "
   ]
  },
  {
   "cell_type": "code",
   "execution_count": null,
   "metadata": {},
   "outputs": [],
   "source": []
  },
  {
   "attachments": {},
   "cell_type": "markdown",
   "metadata": {},
   "source": [
    "#### Applying **Spectral Normalization**\n",
    "Spectral Normalization is another method that aims to enforce Lipschitz continuity onto the network."
   ]
  },
  {
   "attachments": {},
   "cell_type": "markdown",
   "metadata": {},
   "source": [
    "#### Applying **Self-Attention**\n",
    "What is self-attention? Traditional convolution layers are local, in the sense that the scope of interactions between inputs is restricted. If the kernel size is less than the image (which it usually is) then one can know that the top left region on an image will only have some interaction with the bottom right region after a certain number of layers. The attention mechanism introduces **global receptive field**. Specifically, it first identifies the dependencies between different tokens on an input, by performing a dot product between two weighted and position-encoded vector embeddings on the input. This leads to a weight matrix that's essentially **calculated on the fly**. The method of producing tokens are generally dependent on the architecture, with the novel Vision Transformer (ViT) using linear layers, while other transformer architectures such as Convolutional Vision Transformers use Convolution layers to generate tokens. Formally, attention is calculated by:\n",
    "$$\\text{Att}(Q, K, V) = \\text{softmax}(\\frac{QK^T}{\\sqrt{d_k}})V$$\n",
    "\n",
    "where $Q, K, V$ are the token matrices.\n",
    "\n",
    "The authors of the SAGAN (Self Attention GANs) paper showed that their networks were able to:\n",
    "> leveraging complementary features in distant portions of the image rather than local regions of fixed shape to generate consistent objects/scenarios.\n",
    "(Zhang et al., 2019)\n",
    "\n",
    "Additionally, a somewhat subtle component in the SAGAN architecture is **Conditional Batch Normalization**."
   ]
  },
  {
   "attachments": {},
   "cell_type": "markdown",
   "metadata": {},
   "source": [
    "#### Applying **Projection Discriminator**\n",
    "As of 2018, most frameworks that describe the architecture of cGANs simply performed some concatenation to add the conditional information $y$ to either the feature vector or at some middle layer (Miyato and Koyama, 2018).\n",
    "\n",
    "<img src=\"images/projection.jpg\" width=900><br />\n",
    "<em>(Miyato and Koyama, 2018)</em>"
   ]
  },
  {
   "attachments": {},
   "cell_type": "markdown",
   "metadata": {},
   "source": [
    "#### Applying **Two-Time Update Rule**"
   ]
  },
  {
   "attachments": {},
   "cell_type": "markdown",
   "metadata": {},
   "source": [
    "#### Applying **BigGAN Architecture**\n",
    "In fact the network we are currently using is similar to the BigGAN architecture. Thus, we attempt to "
   ]
  },
  {
   "attachments": {},
   "cell_type": "markdown",
   "metadata": {},
   "source": [
    "#### Applying **MultiHinge Loss**"
   ]
  },
  {
   "attachments": {},
   "cell_type": "markdown",
   "metadata": {},
   "source": [
    "#### Applying <strong>Data-to-Data Cross Entropy</strong>"
   ]
  },
  {
   "attachments": {},
   "cell_type": "markdown",
   "metadata": {},
   "source": [
    "#### Applying <strong>DiffAugment</strong>"
   ]
  },
  {
   "cell_type": "markdown",
   "metadata": {},
   "source": [
    "#### Applying <strong>Auxiliary Discriminative Classifier</strong>"
   ]
  },
  {
   "attachments": {},
   "cell_type": "markdown",
   "metadata": {},
   "source": [
    "#### Applying **Adaptive Weighted Discriminators**"
   ]
  },
  {
   "attachments": {},
   "cell_type": "markdown",
   "metadata": {},
   "source": [
    "### Hyperparameter Tuning with **Bayesian Optimization**"
   ]
  },
  {
   "attachments": {},
   "cell_type": "markdown",
   "metadata": {},
   "source": [
    "#### **Error Analysis**"
   ]
  }
 ],
 "metadata": {
  "kernelspec": {
   "display_name": "pytorch",
   "language": "python",
   "name": "python3"
  },
  "language_info": {
   "codemirror_mode": {
    "name": "ipython",
    "version": 3
   },
   "file_extension": ".py",
   "mimetype": "text/x-python",
   "name": "python",
   "nbconvert_exporter": "python",
   "pygments_lexer": "ipython3",
   "version": "3.10.6"
  },
  "orig_nbformat": 4,
  "vscode": {
   "interpreter": {
    "hash": "1042389d7c82dd1bd8119cafb1c36337ac9bb25498b1a7ccb724fef191fad074"
   }
  }
 },
 "nbformat": 4,
 "nbformat_minor": 2
}
